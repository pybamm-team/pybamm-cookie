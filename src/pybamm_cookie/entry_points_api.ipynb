{
 "cells": [
  {
   "cell_type": "markdown",
   "id": "0d9e30fc",
   "metadata": {},
   "source": [
    "PyBaMM now supports loading third-party models and parameter sets via a new public API:\n",
    "\n",
    "- pybamm.Model(\"model_name\")\n",
    "- pybamm.ParameterValues(\"parameter_set_name\")\n",
    "\n",
    "These allow users to access models **distributed as Python packages** using Python's entry_points mechanism.\n"
   ]
  },
  {
   "cell_type": "markdown",
   "id": "3326fe1f",
   "metadata": {},
   "source": [
    "\n",
    "In this notebook, we’ll demonstrate how to use this API with an external package: [pybamm-reservoir-example](https://github.com/pybamm-team/pybamm-reservoir-example), which provides a simple reservoir model and parameter set.\n",
    "\n",
    "If you want to create your own external model package, we recommend starting with pybamm-cookie, a cookiecutter template that helps you set up your model as a Python package with the correct structure and metadata.\n"
   ]
  },
  {
   "cell_type": "markdown",
   "id": "07d1c0e0",
   "metadata": {},
   "source": [
    "To make your models and parameter sets discoverable through PyBaMM’s public API, you need to register them under the appropriate entry point groups in your pyproject.toml. Here’s how to do that:\n",
    "\n",
    "```\n",
    "[project.entry-points.\"pybamm_parameter_sets\"]\n",
    "ReservoirParams = \"pybamm_reservoir_example.parameters.input.ReservoirParameters:get_parameter_values\" \n",
    "```\n",
    "```\n",
    "\n",
    "[project.entry-points.\"pybamm_models\"] \n",
    "Reservoir = \"pybamm_reservoir_example.models.input.Reservoir:Reservoir\" \n",
    "\n",
    "```"
   ]
  },
  {
   "cell_type": "markdown",
   "id": "fdc3cbc9",
   "metadata": {},
   "source": [
    "You can install the package using `pip install .` ,if it’s available locally, or install it directly from GitHub using:"
   ]
  },
  {
   "cell_type": "code",
   "execution_count": 1,
   "id": "e6ed78ed",
   "metadata": {},
   "outputs": [
    {
     "name": "stdout",
     "output_type": "stream",
     "text": [
      "Collecting git+https://github.com/pybamm-team/pybamm-reservoir-example.git@main\n",
      "  Cloning https://github.com/pybamm-team/pybamm-reservoir-example.git (to revision main) to /tmp/pip-req-build-u3g437oh\n",
      "  Running command git clone --filter=blob:none --quiet https://github.com/pybamm-team/pybamm-reservoir-example.git /tmp/pip-req-build-u3g437oh\n",
      "  Resolved https://github.com/pybamm-team/pybamm-reservoir-example.git to commit 676cbf01dcab0557bce91f3811959a97b5989cb5\n",
      "  Installing build dependencies ... \u001b[?25ldone\n",
      "\u001b[?25h  Getting requirements to build wheel ... \u001b[?25ldone\n",
      "\u001b[?25h  Preparing metadata (pyproject.toml) ... \u001b[?25ldone\n",
      "\u001b[?25hCollecting pybamm@ git+https://github.com/pybamm-team/PyBaMM.git@develop#egg=pybamm (from pybamm-reservoir-example==0.1.dev6+g676cbf0)\n",
      "  Cloning https://github.com/pybamm-team/PyBaMM.git (to revision develop) to /tmp/pip-install-npphi4w0/pybamm_bb461467b9db462c85d81146240e83f3\n",
      "  Running command git clone --filter=blob:none --quiet https://github.com/pybamm-team/PyBaMM.git /tmp/pip-install-npphi4w0/pybamm_bb461467b9db462c85d81146240e83f3\n",
      "  Resolved https://github.com/pybamm-team/PyBaMM.git to commit 6dc2a9bcf6899c63f2e94d62d4d0343bd9cf7126\n",
      "  Installing build dependencies ... \u001b[?25ldone\n",
      "\u001b[?25h  Getting requirements to build wheel ... \u001b[?25ldone\n",
      "\u001b[?25h  Preparing metadata (pyproject.toml) ... \u001b[?25ldone\n",
      "\u001b[?25hRequirement already satisfied: anytree>=2.8.0 in /home/medha/anaconda3/envs/test1/lib/python3.12/site-packages (from pybamm@ git+https://github.com/pybamm-team/PyBaMM.git@develop#egg=pybamm->pybamm-reservoir-example==0.1.dev6+g676cbf0) (2.13.0)\n",
      "Requirement already satisfied: casadi==3.6.7 in /home/medha/anaconda3/envs/test1/lib/python3.12/site-packages (from pybamm@ git+https://github.com/pybamm-team/PyBaMM.git@develop#egg=pybamm->pybamm-reservoir-example==0.1.dev6+g676cbf0) (3.6.7)\n",
      "Requirement already satisfied: numpy<2.0.0,>=1.23.5 in /home/medha/anaconda3/envs/test1/lib/python3.12/site-packages (from pybamm@ git+https://github.com/pybamm-team/PyBaMM.git@develop#egg=pybamm->pybamm-reservoir-example==0.1.dev6+g676cbf0) (1.26.4)\n",
      "Requirement already satisfied: pandas>=1.5.0 in /home/medha/anaconda3/envs/test1/lib/python3.12/site-packages (from pybamm@ git+https://github.com/pybamm-team/PyBaMM.git@develop#egg=pybamm->pybamm-reservoir-example==0.1.dev6+g676cbf0) (2.3.1)\n",
      "Requirement already satisfied: platformdirs in /home/medha/anaconda3/envs/test1/lib/python3.12/site-packages (from pybamm@ git+https://github.com/pybamm-team/PyBaMM.git@develop#egg=pybamm->pybamm-reservoir-example==0.1.dev6+g676cbf0) (4.3.8)\n",
      "Requirement already satisfied: pooch>=1.8.1 in /home/medha/anaconda3/envs/test1/lib/python3.12/site-packages (from pybamm@ git+https://github.com/pybamm-team/PyBaMM.git@develop#egg=pybamm->pybamm-reservoir-example==0.1.dev6+g676cbf0) (1.8.2)\n",
      "Requirement already satisfied: posthog in /home/medha/anaconda3/envs/test1/lib/python3.12/site-packages (from pybamm@ git+https://github.com/pybamm-team/PyBaMM.git@develop#egg=pybamm->pybamm-reservoir-example==0.1.dev6+g676cbf0) (6.2.1)\n",
      "Requirement already satisfied: pybammsolvers in /home/medha/anaconda3/envs/test1/lib/python3.12/site-packages (from pybamm@ git+https://github.com/pybamm-team/PyBaMM.git@develop#egg=pybamm->pybamm-reservoir-example==0.1.dev6+g676cbf0) (0.1.0)\n",
      "Requirement already satisfied: pyyaml in /home/medha/anaconda3/envs/test1/lib/python3.12/site-packages (from pybamm@ git+https://github.com/pybamm-team/PyBaMM.git@develop#egg=pybamm->pybamm-reservoir-example==0.1.dev6+g676cbf0) (6.0.2)\n",
      "Requirement already satisfied: scipy>=1.11.4 in /home/medha/anaconda3/envs/test1/lib/python3.12/site-packages (from pybamm@ git+https://github.com/pybamm-team/PyBaMM.git@develop#egg=pybamm->pybamm-reservoir-example==0.1.dev6+g676cbf0) (1.16.0)\n",
      "Requirement already satisfied: sympy>=1.12 in /home/medha/anaconda3/envs/test1/lib/python3.12/site-packages (from pybamm@ git+https://github.com/pybamm-team/PyBaMM.git@develop#egg=pybamm->pybamm-reservoir-example==0.1.dev6+g676cbf0) (1.14.0)\n",
      "Requirement already satisfied: typing-extensions>=4.10.0 in /home/medha/anaconda3/envs/test1/lib/python3.12/site-packages (from pybamm@ git+https://github.com/pybamm-team/PyBaMM.git@develop#egg=pybamm->pybamm-reservoir-example==0.1.dev6+g676cbf0) (4.14.1)\n",
      "Requirement already satisfied: xarray>=2022.6.0 in /home/medha/anaconda3/envs/test1/lib/python3.12/site-packages (from pybamm@ git+https://github.com/pybamm-team/PyBaMM.git@develop#egg=pybamm->pybamm-reservoir-example==0.1.dev6+g676cbf0) (2025.7.1)\n",
      "Requirement already satisfied: python-dateutil>=2.8.2 in /home/medha/anaconda3/envs/test1/lib/python3.12/site-packages (from pandas>=1.5.0->pybamm@ git+https://github.com/pybamm-team/PyBaMM.git@develop#egg=pybamm->pybamm-reservoir-example==0.1.dev6+g676cbf0) (2.9.0.post0)\n",
      "Requirement already satisfied: pytz>=2020.1 in /home/medha/anaconda3/envs/test1/lib/python3.12/site-packages (from pandas>=1.5.0->pybamm@ git+https://github.com/pybamm-team/PyBaMM.git@develop#egg=pybamm->pybamm-reservoir-example==0.1.dev6+g676cbf0) (2025.2)\n",
      "Requirement already satisfied: tzdata>=2022.7 in /home/medha/anaconda3/envs/test1/lib/python3.12/site-packages (from pandas>=1.5.0->pybamm@ git+https://github.com/pybamm-team/PyBaMM.git@develop#egg=pybamm->pybamm-reservoir-example==0.1.dev6+g676cbf0) (2025.2)\n",
      "Requirement already satisfied: packaging>=20.0 in /home/medha/anaconda3/envs/test1/lib/python3.12/site-packages (from pooch>=1.8.1->pybamm@ git+https://github.com/pybamm-team/PyBaMM.git@develop#egg=pybamm->pybamm-reservoir-example==0.1.dev6+g676cbf0) (25.0)\n",
      "Requirement already satisfied: requests>=2.19.0 in /home/medha/anaconda3/envs/test1/lib/python3.12/site-packages (from pooch>=1.8.1->pybamm@ git+https://github.com/pybamm-team/PyBaMM.git@develop#egg=pybamm->pybamm-reservoir-example==0.1.dev6+g676cbf0) (2.32.4)\n",
      "Requirement already satisfied: six>=1.5 in /home/medha/anaconda3/envs/test1/lib/python3.12/site-packages (from python-dateutil>=2.8.2->pandas>=1.5.0->pybamm@ git+https://github.com/pybamm-team/PyBaMM.git@develop#egg=pybamm->pybamm-reservoir-example==0.1.dev6+g676cbf0) (1.17.0)\n",
      "Requirement already satisfied: charset_normalizer<4,>=2 in /home/medha/anaconda3/envs/test1/lib/python3.12/site-packages (from requests>=2.19.0->pooch>=1.8.1->pybamm@ git+https://github.com/pybamm-team/PyBaMM.git@develop#egg=pybamm->pybamm-reservoir-example==0.1.dev6+g676cbf0) (3.4.2)\n",
      "Requirement already satisfied: idna<4,>=2.5 in /home/medha/anaconda3/envs/test1/lib/python3.12/site-packages (from requests>=2.19.0->pooch>=1.8.1->pybamm@ git+https://github.com/pybamm-team/PyBaMM.git@develop#egg=pybamm->pybamm-reservoir-example==0.1.dev6+g676cbf0) (3.10)\n",
      "Requirement already satisfied: urllib3<3,>=1.21.1 in /home/medha/anaconda3/envs/test1/lib/python3.12/site-packages (from requests>=2.19.0->pooch>=1.8.1->pybamm@ git+https://github.com/pybamm-team/PyBaMM.git@develop#egg=pybamm->pybamm-reservoir-example==0.1.dev6+g676cbf0) (2.5.0)\n",
      "Requirement already satisfied: certifi>=2017.4.17 in /home/medha/anaconda3/envs/test1/lib/python3.12/site-packages (from requests>=2.19.0->pooch>=1.8.1->pybamm@ git+https://github.com/pybamm-team/PyBaMM.git@develop#egg=pybamm->pybamm-reservoir-example==0.1.dev6+g676cbf0) (2025.7.14)\n",
      "Requirement already satisfied: mpmath<1.4,>=1.1.0 in /home/medha/anaconda3/envs/test1/lib/python3.12/site-packages (from sympy>=1.12->pybamm@ git+https://github.com/pybamm-team/PyBaMM.git@develop#egg=pybamm->pybamm-reservoir-example==0.1.dev6+g676cbf0) (1.3.0)\n",
      "Requirement already satisfied: backoff>=1.10.0 in /home/medha/anaconda3/envs/test1/lib/python3.12/site-packages (from posthog->pybamm@ git+https://github.com/pybamm-team/PyBaMM.git@develop#egg=pybamm->pybamm-reservoir-example==0.1.dev6+g676cbf0) (2.2.1)\n",
      "Requirement already satisfied: distro>=1.5.0 in /home/medha/anaconda3/envs/test1/lib/python3.12/site-packages (from posthog->pybamm@ git+https://github.com/pybamm-team/PyBaMM.git@develop#egg=pybamm->pybamm-reservoir-example==0.1.dev6+g676cbf0) (1.9.0)\n"
     ]
    }
   ],
   "source": [
    "!pip install git+https://github.com/pybamm-team/pybamm-reservoir-example.git@main\n"
   ]
  },
  {
   "cell_type": "markdown",
   "id": "9db9c617",
   "metadata": {},
   "source": [
    "Once the package is installed, you can load the model and parameter set directly using the `pybamm.Model()` and `pybamm.ParameterValues()` APIs — no manual imports from the package are required."
   ]
  },
  {
   "cell_type": "code",
   "execution_count": 2,
   "id": "bba62479",
   "metadata": {},
   "outputs": [],
   "source": [
    "import pybamm\n",
    "\n",
    "# Load model and parameters from entry points\n",
    "model = pybamm.Model(\"Reservoir\")\n",
    "params = pybamm.ParameterValues(\"ReservoirParams\")\n"
   ]
  },
  {
   "cell_type": "code",
   "execution_count": 3,
   "id": "b312c9bf",
   "metadata": {},
   "outputs": [
    {
     "name": "stderr",
     "output_type": "stream",
     "text": [
      "/home/medha/anaconda3/envs/test1/lib/python3.12/site-packages/pybamm/simulation.py:122: UserWarning: The default solver changed to IDAKLUSolver after the v25.4.0. release. You can swap back to the previous default by using `pybamm.CasadiSolver()` instead.\n",
      "  self._solver = solver or self._model.default_solver\n"
     ]
    },
    {
     "data": {
      "application/vnd.jupyter.widget-view+json": {
       "model_id": "d08b41b9b30e4bf3b2127becd52717b3",
       "version_major": 2,
       "version_minor": 0
      },
      "text/plain": [
       "interactive(children=(FloatSlider(value=0.0, description='t', max=0.895106160462667, step=0.00895106160462667)…"
      ]
     },
     "metadata": {},
     "output_type": "display_data"
    },
    {
     "data": {
      "text/plain": [
       "<pybamm.plotting.quick_plot.QuickPlot at 0x7e36f09f95e0>"
      ]
     },
     "execution_count": 3,
     "metadata": {},
     "output_type": "execute_result"
    }
   ],
   "source": [
    "\n",
    "# Create simulation and solve\n",
    "sim = pybamm.Simulation(model, parameter_values=params)\n",
    "sim.solve([0, 3600])\n",
    "sim.plot(['Negative electrode stoichiometry', 'Positive electrode stoichiometry'])"
   ]
  },
  {
   "cell_type": "markdown",
   "id": "bb341010",
   "metadata": {},
   "source": [
    "### You can also view the available models and parameter sets registered with PyBaMM."
   ]
  },
  {
   "cell_type": "code",
   "execution_count": 4,
   "id": "7b3ea68e",
   "metadata": {},
   "outputs": [
    {
     "name": "stdout",
     "output_type": "stream",
     "text": [
      "Available models:\n",
      "['BasicReservoir', 'Reservoir', 'SPM', 'DFN', 'MPM', 'MSMR', 'NewmanTobias', 'SPMe', 'Yang2017']\n",
      "\n",
      "Available parameter sets:\n",
      "['Chen2020', 'ReservoirParams', 'Ai2020', 'Chayambuka2022', 'Chen2020_composite', 'ECM_Example', 'Ecker2015', 'Ecker2015_graphite_halfcell', 'MSMR_Example', 'Marquis2019', 'Mohtat2020', 'NCA_Kim2011', 'OKane2022', 'OKane2022_graphite_SiOx_halfcell', 'ORegan2022', 'Prada2013', 'Ramadass2004', 'Sulzer2019', 'Xu2019']\n"
     ]
    }
   ],
   "source": [
    "print(\"Available models:\")\n",
    "print(list(pybamm.dispatch.models))\n",
    "\n",
    "print(\"\\nAvailable parameter sets:\")\n",
    "print(list(pybamm.parameter_sets))\n"
   ]
  },
  {
   "cell_type": "markdown",
   "id": "6c9a4dc1",
   "metadata": {},
   "source": [
    "### To understand what a model or parameter set does you can get the docstring of the model and parameter set:"
   ]
  },
  {
   "cell_type": "code",
   "execution_count": 5,
   "id": "f969fc50",
   "metadata": {},
   "outputs": [
    {
     "name": "stdout",
     "output_type": "stream",
     "text": [
      "\n",
      "Simple stoichiometric reservoir model for a lithium-ion battery.\n",
      "\n",
      "This model captures the evolution of stoichiometries in the negative and\n",
      "positive electrodes due to applied current, using a lumped approach with\n",
      "simplified voltage dynamics.\n",
      "\n",
      "Parameters\n",
      "----------\n",
      "name : str, optional\n",
      "    The name of the model.\n",
      "\n"
     ]
    }
   ],
   "source": [
    "# View docstring for a model\n",
    "print(pybamm.dispatch.models.get_docstring(\"Reservoir\"))"
   ]
  },
  {
   "cell_type": "code",
   "execution_count": 6,
   "id": "8a88b068",
   "metadata": {},
   "outputs": [
    {
     "name": "stdout",
     "output_type": "stream",
     "text": [
      "\n",
      "Parameter values for a simple reservoir model using LG M50 cell data.\n",
      "\n",
      "The OCV curves are taken from the paper :footcite:t:`Chen2020`, while\n",
      "other parameter values are illustrative. These include a sinusoidal\n",
      "current function, initial stoichiometries, and electrode properties.\n",
      "\n",
      ".. note::\n",
      "    This parameter set is intended for use with the `Reservoir` model,\n",
      "    and is not meant to be representative of detailed cell-level physics.\n",
      "\n",
      "Returns\n",
      "-------\n",
      "dict\n",
      "    Dictionary of parameter values compatible with `pybamm.ParameterValues`.\n",
      "\n"
     ]
    }
   ],
   "source": [
    "# View docstring for a parameter set\n",
    "print(pybamm.parameter_sets.get_docstring(\"ReservoirParams\"))"
   ]
  }
 ],
 "metadata": {
  "kernelspec": {
   "display_name": "test1",
   "language": "python",
   "name": "python3"
  },
  "language_info": {
   "codemirror_mode": {
    "name": "ipython",
    "version": 3
   },
   "file_extension": ".py",
   "mimetype": "text/x-python",
   "name": "python",
   "nbconvert_exporter": "python",
   "pygments_lexer": "ipython3",
   "version": "3.12.11"
  }
 },
 "nbformat": 4,
 "nbformat_minor": 5
}
