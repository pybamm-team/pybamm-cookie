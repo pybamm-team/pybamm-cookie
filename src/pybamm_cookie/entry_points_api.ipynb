{
 "cells": [
  {
   "cell_type": "markdown",
   "id": "0d9e30fc",
   "metadata": {},
   "source": [
    "PyBaMM now supports loading third-party models and parameter sets via a new public API:\n",
    "\n",
    "- pybamm.Model(\"model_name\")\n",
    "- pybamm.ParameterValues(\"parameter_set_name\")\n",
    "\n",
    "These allow users to access models **distributed as Python packages** using Python's entry_points mechanism.\n"
   ]
  },
  {
   "cell_type": "markdown",
   "id": "3326fe1f",
   "metadata": {},
   "source": [
    "\n",
    "In this notebook, we’ll demonstrate how to use this API with an external package: [pybamm-reservoir-example](https://github.com/pybamm-team/pybamm-reservoir-example), which provides a simple reservoir model and parameter set.\n",
    "\n",
    "If you want to create your own external model package, we recommend starting with pybamm-cookie, a cookiecutter template that helps you set up your model as a Python package with the correct structure and metadata.\n"
   ]
  },
  {
   "cell_type": "markdown",
   "id": "07d1c0e0",
   "metadata": {},
   "source": [
    "To make your models and parameter sets discoverable through PyBaMM’s public API, you need to register them under the appropriate entry point groups in your pyproject.toml. Here’s how to do that:\n",
    "\n",
    "```\n",
    "[project.entry-points.\"pybamm_parameter_sets\"]\n",
    "ReservoirParams = \"pybamm_reservoir_example.parameters.input.ReservoirParameters:get_parameter_values\" \n",
    "```\n",
    "```\n",
    "\n",
    "[project.entry-points.\"pybamm_models\"] \n",
    "Reservoir = \"pybamm_reservoir_example.models.input.Reservoir:Reservoir\" \n",
    "\n",
    "```"
   ]
  },
  {
   "cell_type": "markdown",
   "id": "fdc3cbc9",
   "metadata": {},
   "source": [
    "You can install the package using `pip install .` ,if it’s available locally, or install it directly from GitHub using:"
   ]
  },
  {
   "cell_type": "code",
   "execution_count": 1,
   "id": "e6ed78ed",
   "metadata": {},
   "outputs": [
    {
     "name": "stdout",
     "output_type": "stream",
     "text": [
      "Collecting git+https://github.com/pybamm-team/pybamm-reservoir-example.git@main\n",
      "  Cloning https://github.com/pybamm-team/pybamm-reservoir-example.git (to revision main) to /tmp/pip-req-build-wwgghxl6\n",
      "  Running command git clone --filter=blob:none --quiet https://github.com/pybamm-team/pybamm-reservoir-example.git /tmp/pip-req-build-wwgghxl6\n",
      "  Resolved https://github.com/pybamm-team/pybamm-reservoir-example.git to commit 679602a0294cd29ae57f890a4e1bcbfeaeccb2ce\n",
      "  Installing build dependencies ... \u001b[?25ldone\n",
      "\u001b[?25h  Getting requirements to build wheel ... \u001b[?25ldone\n",
      "\u001b[?25h  Preparing metadata (pyproject.toml) ... \u001b[?25ldone\n",
      "\u001b[?25hRequirement already satisfied: pybamm>=25.8 in /home/medha/anaconda3/envs/test1/lib/python3.12/site-packages (from pybamm-reservoir-example==0.1.dev8+g679602a02) (25.8.1.dev90+ga1aa02c2c)\n",
      "Requirement already satisfied: anytree>=2.8.0 in /home/medha/anaconda3/envs/test1/lib/python3.12/site-packages (from pybamm>=25.8->pybamm-reservoir-example==0.1.dev8+g679602a02) (2.13.0)\n",
      "Requirement already satisfied: casadi==3.6.7 in /home/medha/anaconda3/envs/test1/lib/python3.12/site-packages (from pybamm>=25.8->pybamm-reservoir-example==0.1.dev8+g679602a02) (3.6.7)\n",
      "Requirement already satisfied: numpy<2.0.0,>=1.23.5 in /home/medha/anaconda3/envs/test1/lib/python3.12/site-packages (from pybamm>=25.8->pybamm-reservoir-example==0.1.dev8+g679602a02) (1.26.4)\n",
      "Requirement already satisfied: pandas>=1.5.0 in /home/medha/anaconda3/envs/test1/lib/python3.12/site-packages (from pybamm>=25.8->pybamm-reservoir-example==0.1.dev8+g679602a02) (2.3.1)\n",
      "Requirement already satisfied: platformdirs in /home/medha/anaconda3/envs/test1/lib/python3.12/site-packages (from pybamm>=25.8->pybamm-reservoir-example==0.1.dev8+g679602a02) (4.3.8)\n",
      "Requirement already satisfied: pooch>=1.8.1 in /home/medha/anaconda3/envs/test1/lib/python3.12/site-packages (from pybamm>=25.8->pybamm-reservoir-example==0.1.dev8+g679602a02) (1.8.2)\n",
      "Requirement already satisfied: posthog in /home/medha/anaconda3/envs/test1/lib/python3.12/site-packages (from pybamm>=25.8->pybamm-reservoir-example==0.1.dev8+g679602a02) (6.2.1)\n",
      "Requirement already satisfied: pybammsolvers in /home/medha/anaconda3/envs/test1/lib/python3.12/site-packages (from pybamm>=25.8->pybamm-reservoir-example==0.1.dev8+g679602a02) (0.1.0)\n",
      "Requirement already satisfied: pyyaml in /home/medha/anaconda3/envs/test1/lib/python3.12/site-packages (from pybamm>=25.8->pybamm-reservoir-example==0.1.dev8+g679602a02) (6.0.2)\n",
      "Requirement already satisfied: scipy>=1.11.4 in /home/medha/anaconda3/envs/test1/lib/python3.12/site-packages (from pybamm>=25.8->pybamm-reservoir-example==0.1.dev8+g679602a02) (1.16.0)\n",
      "Requirement already satisfied: sympy>=1.12 in /home/medha/anaconda3/envs/test1/lib/python3.12/site-packages (from pybamm>=25.8->pybamm-reservoir-example==0.1.dev8+g679602a02) (1.14.0)\n",
      "Requirement already satisfied: typing-extensions>=4.10.0 in /home/medha/anaconda3/envs/test1/lib/python3.12/site-packages (from pybamm>=25.8->pybamm-reservoir-example==0.1.dev8+g679602a02) (4.14.1)\n",
      "Requirement already satisfied: xarray>=2022.6.0 in /home/medha/anaconda3/envs/test1/lib/python3.12/site-packages (from pybamm>=25.8->pybamm-reservoir-example==0.1.dev8+g679602a02) (2025.7.1)\n",
      "Requirement already satisfied: python-dateutil>=2.8.2 in /home/medha/anaconda3/envs/test1/lib/python3.12/site-packages (from pandas>=1.5.0->pybamm>=25.8->pybamm-reservoir-example==0.1.dev8+g679602a02) (2.9.0.post0)\n",
      "Requirement already satisfied: pytz>=2020.1 in /home/medha/anaconda3/envs/test1/lib/python3.12/site-packages (from pandas>=1.5.0->pybamm>=25.8->pybamm-reservoir-example==0.1.dev8+g679602a02) (2025.2)\n",
      "Requirement already satisfied: tzdata>=2022.7 in /home/medha/anaconda3/envs/test1/lib/python3.12/site-packages (from pandas>=1.5.0->pybamm>=25.8->pybamm-reservoir-example==0.1.dev8+g679602a02) (2025.2)\n",
      "Requirement already satisfied: packaging>=20.0 in /home/medha/anaconda3/envs/test1/lib/python3.12/site-packages (from pooch>=1.8.1->pybamm>=25.8->pybamm-reservoir-example==0.1.dev8+g679602a02) (25.0)\n",
      "Requirement already satisfied: requests>=2.19.0 in /home/medha/anaconda3/envs/test1/lib/python3.12/site-packages (from pooch>=1.8.1->pybamm>=25.8->pybamm-reservoir-example==0.1.dev8+g679602a02) (2.32.4)\n",
      "Requirement already satisfied: six>=1.5 in /home/medha/anaconda3/envs/test1/lib/python3.12/site-packages (from python-dateutil>=2.8.2->pandas>=1.5.0->pybamm>=25.8->pybamm-reservoir-example==0.1.dev8+g679602a02) (1.17.0)\n",
      "Requirement already satisfied: charset_normalizer<4,>=2 in /home/medha/anaconda3/envs/test1/lib/python3.12/site-packages (from requests>=2.19.0->pooch>=1.8.1->pybamm>=25.8->pybamm-reservoir-example==0.1.dev8+g679602a02) (3.4.2)\n",
      "Requirement already satisfied: idna<4,>=2.5 in /home/medha/anaconda3/envs/test1/lib/python3.12/site-packages (from requests>=2.19.0->pooch>=1.8.1->pybamm>=25.8->pybamm-reservoir-example==0.1.dev8+g679602a02) (3.10)\n",
      "Requirement already satisfied: urllib3<3,>=1.21.1 in /home/medha/anaconda3/envs/test1/lib/python3.12/site-packages (from requests>=2.19.0->pooch>=1.8.1->pybamm>=25.8->pybamm-reservoir-example==0.1.dev8+g679602a02) (2.5.0)\n",
      "Requirement already satisfied: certifi>=2017.4.17 in /home/medha/anaconda3/envs/test1/lib/python3.12/site-packages (from requests>=2.19.0->pooch>=1.8.1->pybamm>=25.8->pybamm-reservoir-example==0.1.dev8+g679602a02) (2025.7.14)\n",
      "Requirement already satisfied: mpmath<1.4,>=1.1.0 in /home/medha/anaconda3/envs/test1/lib/python3.12/site-packages (from sympy>=1.12->pybamm>=25.8->pybamm-reservoir-example==0.1.dev8+g679602a02) (1.3.0)\n",
      "Requirement already satisfied: backoff>=1.10.0 in /home/medha/anaconda3/envs/test1/lib/python3.12/site-packages (from posthog->pybamm>=25.8->pybamm-reservoir-example==0.1.dev8+g679602a02) (2.2.1)\n",
      "Requirement already satisfied: distro>=1.5.0 in /home/medha/anaconda3/envs/test1/lib/python3.12/site-packages (from posthog->pybamm>=25.8->pybamm-reservoir-example==0.1.dev8+g679602a02) (1.9.0)\n",
      "Building wheels for collected packages: pybamm-reservoir-example\n",
      "  Building wheel for pybamm-reservoir-example (pyproject.toml) ... \u001b[?25ldone\n",
      "\u001b[?25h  Created wheel for pybamm-reservoir-example: filename=pybamm_reservoir_example-0.1.dev8+g679602a02-py3-none-any.whl size=18707 sha256=8cdc32ebd1c7683751c901b05191f6de5c59558efc6202fcefe8ebc62c2a6225\n",
      "  Stored in directory: /tmp/pip-ephem-wheel-cache-nwsotoc6/wheels/65/7f/a0/91815ca1d7c5048260515e22d2f6e925734bdf5c25110fa560\n",
      "Successfully built pybamm-reservoir-example\n",
      "Installing collected packages: pybamm-reservoir-example\n",
      "  Attempting uninstall: pybamm-reservoir-example\n",
      "    Found existing installation: pybamm-reservoir-example 0.1.dev7+g03a58f16c\n",
      "    Uninstalling pybamm-reservoir-example-0.1.dev7+g03a58f16c:\n",
      "      Successfully uninstalled pybamm-reservoir-example-0.1.dev7+g03a58f16c\n",
      "Successfully installed pybamm-reservoir-example-0.1.dev8+g679602a02\n",
      "Requirement already satisfied: pybamm>=25.8 in /home/medha/anaconda3/envs/test1/lib/python3.12/site-packages (25.8.1.dev90+ga1aa02c2c)\n",
      "Requirement already satisfied: anytree>=2.8.0 in /home/medha/anaconda3/envs/test1/lib/python3.12/site-packages (from pybamm>=25.8) (2.13.0)\n",
      "Requirement already satisfied: casadi==3.6.7 in /home/medha/anaconda3/envs/test1/lib/python3.12/site-packages (from pybamm>=25.8) (3.6.7)\n",
      "Requirement already satisfied: numpy<2.0.0,>=1.23.5 in /home/medha/anaconda3/envs/test1/lib/python3.12/site-packages (from pybamm>=25.8) (1.26.4)\n",
      "Requirement already satisfied: pandas>=1.5.0 in /home/medha/anaconda3/envs/test1/lib/python3.12/site-packages (from pybamm>=25.8) (2.3.1)\n",
      "Requirement already satisfied: platformdirs in /home/medha/anaconda3/envs/test1/lib/python3.12/site-packages (from pybamm>=25.8) (4.3.8)\n",
      "Requirement already satisfied: pooch>=1.8.1 in /home/medha/anaconda3/envs/test1/lib/python3.12/site-packages (from pybamm>=25.8) (1.8.2)\n",
      "Requirement already satisfied: posthog in /home/medha/anaconda3/envs/test1/lib/python3.12/site-packages (from pybamm>=25.8) (6.2.1)\n",
      "Requirement already satisfied: pybammsolvers in /home/medha/anaconda3/envs/test1/lib/python3.12/site-packages (from pybamm>=25.8) (0.1.0)\n",
      "Requirement already satisfied: pyyaml in /home/medha/anaconda3/envs/test1/lib/python3.12/site-packages (from pybamm>=25.8) (6.0.2)\n",
      "Requirement already satisfied: scipy>=1.11.4 in /home/medha/anaconda3/envs/test1/lib/python3.12/site-packages (from pybamm>=25.8) (1.16.0)\n",
      "Requirement already satisfied: sympy>=1.12 in /home/medha/anaconda3/envs/test1/lib/python3.12/site-packages (from pybamm>=25.8) (1.14.0)\n",
      "Requirement already satisfied: typing-extensions>=4.10.0 in /home/medha/anaconda3/envs/test1/lib/python3.12/site-packages (from pybamm>=25.8) (4.14.1)\n",
      "Requirement already satisfied: xarray>=2022.6.0 in /home/medha/anaconda3/envs/test1/lib/python3.12/site-packages (from pybamm>=25.8) (2025.7.1)\n",
      "Requirement already satisfied: python-dateutil>=2.8.2 in /home/medha/anaconda3/envs/test1/lib/python3.12/site-packages (from pandas>=1.5.0->pybamm>=25.8) (2.9.0.post0)\n",
      "Requirement already satisfied: pytz>=2020.1 in /home/medha/anaconda3/envs/test1/lib/python3.12/site-packages (from pandas>=1.5.0->pybamm>=25.8) (2025.2)\n",
      "Requirement already satisfied: tzdata>=2022.7 in /home/medha/anaconda3/envs/test1/lib/python3.12/site-packages (from pandas>=1.5.0->pybamm>=25.8) (2025.2)\n",
      "Requirement already satisfied: packaging>=20.0 in /home/medha/anaconda3/envs/test1/lib/python3.12/site-packages (from pooch>=1.8.1->pybamm>=25.8) (25.0)\n",
      "Requirement already satisfied: requests>=2.19.0 in /home/medha/anaconda3/envs/test1/lib/python3.12/site-packages (from pooch>=1.8.1->pybamm>=25.8) (2.32.4)\n",
      "Requirement already satisfied: six>=1.5 in /home/medha/anaconda3/envs/test1/lib/python3.12/site-packages (from python-dateutil>=2.8.2->pandas>=1.5.0->pybamm>=25.8) (1.17.0)\n",
      "Requirement already satisfied: charset_normalizer<4,>=2 in /home/medha/anaconda3/envs/test1/lib/python3.12/site-packages (from requests>=2.19.0->pooch>=1.8.1->pybamm>=25.8) (3.4.2)\n",
      "Requirement already satisfied: idna<4,>=2.5 in /home/medha/anaconda3/envs/test1/lib/python3.12/site-packages (from requests>=2.19.0->pooch>=1.8.1->pybamm>=25.8) (3.10)\n",
      "Requirement already satisfied: urllib3<3,>=1.21.1 in /home/medha/anaconda3/envs/test1/lib/python3.12/site-packages (from requests>=2.19.0->pooch>=1.8.1->pybamm>=25.8) (2.5.0)\n",
      "Requirement already satisfied: certifi>=2017.4.17 in /home/medha/anaconda3/envs/test1/lib/python3.12/site-packages (from requests>=2.19.0->pooch>=1.8.1->pybamm>=25.8) (2025.7.14)\n",
      "Requirement already satisfied: mpmath<1.4,>=1.1.0 in /home/medha/anaconda3/envs/test1/lib/python3.12/site-packages (from sympy>=1.12->pybamm>=25.8) (1.3.0)\n",
      "Requirement already satisfied: backoff>=1.10.0 in /home/medha/anaconda3/envs/test1/lib/python3.12/site-packages (from posthog->pybamm>=25.8) (2.2.1)\n",
      "Requirement already satisfied: distro>=1.5.0 in /home/medha/anaconda3/envs/test1/lib/python3.12/site-packages (from posthog->pybamm>=25.8) (1.9.0)\n"
     ]
    }
   ],
   "source": [
    "!pip install git+https://github.com/pybamm-team/pybamm-reservoir-example.git@main\n",
    "\n",
    "!pip install \"pybamm>=25.8\"\n"
   ]
  },
  {
   "cell_type": "markdown",
   "id": "9db9c617",
   "metadata": {},
   "source": [
    "Once the package is installed, you can load the model and parameter set directly using the `pybamm.Model()` and `pybamm.ParameterValues()` APIs — no manual imports from the package are required."
   ]
  },
  {
   "cell_type": "code",
   "execution_count": 2,
   "id": "bba62479",
   "metadata": {},
   "outputs": [],
   "source": [
    "import pybamm\n",
    "\n",
    "# Load model and parameters from entry points\n",
    "model = pybamm.Model(\"Reservoir\")\n",
    "params = pybamm.ParameterValues(\"ReservoirParams\")\n"
   ]
  },
  {
   "cell_type": "code",
   "execution_count": 3,
   "id": "b312c9bf",
   "metadata": {},
   "outputs": [
    {
     "name": "stderr",
     "output_type": "stream",
     "text": [
      "/home/medha/anaconda3/envs/test1/lib/python3.12/site-packages/pybamm/simulation.py:122: UserWarning: The default solver changed to IDAKLUSolver after the v25.4.0. release. You can swap back to the previous default by using `pybamm.CasadiSolver()` instead.\n",
      "  self._solver = solver or self._model.default_solver\n"
     ]
    },
    {
     "data": {
      "application/vnd.jupyter.widget-view+json": {
       "model_id": "167c0178710549158f9fb5c39822f6e0",
       "version_major": 2,
       "version_minor": 0
      },
      "text/plain": [
       "interactive(children=(FloatSlider(value=0.0, description='t', max=0.895106160462667, step=0.00895106160462667)…"
      ]
     },
     "metadata": {},
     "output_type": "display_data"
    },
    {
     "data": {
      "text/plain": [
       "<pybamm.plotting.quick_plot.QuickPlot at 0x7bb81f1c1100>"
      ]
     },
     "execution_count": 3,
     "metadata": {},
     "output_type": "execute_result"
    }
   ],
   "source": [
    "\n",
    "# Create simulation and solve\n",
    "sim = pybamm.Simulation(model, parameter_values=params)\n",
    "sim.solve([0, 3600])\n",
    "sim.plot(['Negative electrode stoichiometry', 'Positive electrode stoichiometry'])"
   ]
  },
  {
   "cell_type": "markdown",
   "id": "bb341010",
   "metadata": {},
   "source": [
    "### You can also view the available models and parameter sets registered with PyBaMM."
   ]
  },
  {
   "cell_type": "code",
   "execution_count": 4,
   "id": "7b3ea68e",
   "metadata": {},
   "outputs": [
    {
     "name": "stdout",
     "output_type": "stream",
     "text": [
      "Available models:\n",
      "['BasicReservoir', 'Reservoir', 'SPM', 'DFN', 'MPM', 'MSMR', 'NewmanTobias', 'SPMe', 'Yang2017']\n",
      "\n",
      "Available parameter sets:\n",
      "['Chen2020', 'ReservoirParams', 'Ai2020', 'Chayambuka2022', 'Chen2020_composite', 'ECM_Example', 'Ecker2015', 'Ecker2015_graphite_halfcell', 'MSMR_Example', 'Marquis2019', 'Mohtat2020', 'NCA_Kim2011', 'OKane2022', 'OKane2022_graphite_SiOx_halfcell', 'ORegan2022', 'Prada2013', 'Ramadass2004', 'Sulzer2019', 'Xu2019']\n"
     ]
    }
   ],
   "source": [
    "print(\"Available models:\")\n",
    "print(list(pybamm.dispatch.models))\n",
    "\n",
    "print(\"\\nAvailable parameter sets:\")\n",
    "print(list(pybamm.parameter_sets))\n"
   ]
  },
  {
   "cell_type": "markdown",
   "id": "6c9a4dc1",
   "metadata": {},
   "source": [
    "### To understand what a model or parameter set does you can get the docstring of the model and parameter set:"
   ]
  },
  {
   "cell_type": "code",
   "execution_count": 5,
   "id": "f969fc50",
   "metadata": {},
   "outputs": [
    {
     "name": "stdout",
     "output_type": "stream",
     "text": [
      "\n",
      "Simple stoichiometric reservoir model for a lithium-ion battery.\n",
      "\n",
      "This model captures the evolution of stoichiometries in the negative and\n",
      "positive electrodes due to applied current, using a lumped approach with\n",
      "simplified voltage dynamics.\n",
      "\n",
      "Parameters\n",
      "----------\n",
      "name : str, optional\n",
      "    The name of the model.\n",
      "\n"
     ]
    }
   ],
   "source": [
    "# View docstring for a model\n",
    "print(pybamm.dispatch.models.get_docstring(\"Reservoir\"))"
   ]
  },
  {
   "cell_type": "code",
   "execution_count": 6,
   "id": "8a88b068",
   "metadata": {},
   "outputs": [
    {
     "name": "stdout",
     "output_type": "stream",
     "text": [
      "\n",
      "Parameter values for a simple reservoir model using LG M50 cell data.\n",
      "\n",
      "The OCV curves are taken from the paper :footcite:t:`Chen2020`, while\n",
      "other parameter values are illustrative. These include a sinusoidal\n",
      "current function, initial stoichiometries, and electrode properties.\n",
      "\n",
      ".. note::\n",
      "    This parameter set is intended for use with the `Reservoir` model,\n",
      "    and is not meant to be representative of detailed cell-level physics.\n",
      "\n",
      "Returns\n",
      "-------\n",
      "dict\n",
      "    Dictionary of parameter values compatible with `pybamm.ParameterValues`.\n",
      "\n"
     ]
    }
   ],
   "source": [
    "# View docstring for a parameter set\n",
    "print(pybamm.parameter_sets.get_docstring(\"ReservoirParams\"))"
   ]
  }
 ],
 "metadata": {
  "kernelspec": {
   "display_name": "test1",
   "language": "python",
   "name": "python3"
  },
  "language_info": {
   "codemirror_mode": {
    "name": "ipython",
    "version": 3
   },
   "file_extension": ".py",
   "mimetype": "text/x-python",
   "name": "python",
   "nbconvert_exporter": "python",
   "pygments_lexer": "ipython3",
   "version": "3.12.11"
  }
 },
 "nbformat": 4,
 "nbformat_minor": 5
}
